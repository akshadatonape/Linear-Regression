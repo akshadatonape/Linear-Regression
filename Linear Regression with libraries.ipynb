{
 "cells": [
  {
   "cell_type": "markdown",
   "metadata": {},
   "source": [
    "# Linear Regression [with scikit learn]\n",
   ]
  },
  {
   "cell_type": "code",
   "execution_count": 3,
   "metadata": {},
   "outputs": [
    {
     "name": "stdout",
     "output_type": "stream",
     "text": [
      "Coefficicent=[[0.00165569]]\n",
      "INtercept=[0.2750403]\n",
      "accuracy=0.40600391479679765\n"
     ]
    },
    {
     "data": {
      "text/plain": [
       "[<matplotlib.lines.Line2D at 0x2803d244cf8>]"
      ]
     },
     "execution_count": 3,
     "metadata": {},
     "output_type": "execute_result"
    },
    {
     "data": {
      "image/png": "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\n",
      "text/plain": [
       "<Figure size 432x288 with 1 Axes>"
      ]
     },
     "metadata": {
      "needs_background": "light"
     },
     "output_type": "display_data"
    }
   ],
   "source": [
    "import pandas as pd;\n",
    "from matplotlib import pyplot as plt\n",
    "import numpy as np\n",
    "from sklearn import linear_model\n",
    "data=pd.read_csv(\"LR.csv\")\n",
    "data.head()\n",
    "x=data['SAT'].values\n",
    "y=data['GPA'].values\n",
    "x=x.reshape(-1,1)\n",
    "y=y.reshape(-1,1)\n",
    "plt.scatter(x,y)\n",
    "reg=linear_model.LinearRegression()\n",
    "reg.fit(x,y)\n",
    "print(\"Coefficicent={}\".format(reg.coef_))\n",
    "print(\"INtercept={}\".format(reg.intercept_))\n",
    "\n",
    "y_pred=reg.predict(x)\n",
    "print(\"accuracy={}\".format(reg.score(x,y)))\n",
    "plt.plot(x,y_pred)\n"
   ]
  },
  {
   "cell_type": "code",
   "execution_count": 4,
   "metadata": {},
   "outputs": [
    {
     "data": {
      "text/plain": [
       "array([[3.14765907]])"
      ]
     },
     "execution_count": 4,
     "metadata": {},
     "output_type": "execute_result"
    }
   ],
   "source": [
    "reg.predict([[1735]])"
   ]
  },
  {
   "cell_type": "code",
   "execution_count": null,
   "metadata": {},
   "outputs": [],
   "source": []
  }
 ],
 "metadata": {
  "kernelspec": {
   "display_name": "Python 3",
   "language": "python",
   "name": "python3"
  },
  "language_info": {
   "codemirror_mode": {
    "name": "ipython",
    "version": 3
   },
   "file_extension": ".py",
   "mimetype": "text/x-python",
   "name": "python",
   "nbconvert_exporter": "python",
   "pygments_lexer": "ipython3",
   "version": "3.7.3"
  }
 },
 "nbformat": 4,
 "nbformat_minor": 2
}
