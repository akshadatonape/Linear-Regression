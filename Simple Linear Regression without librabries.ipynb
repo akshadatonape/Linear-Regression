{
 "cells": [
  {
   "cell_type": "markdown",
   "metadata": {},
   "source": [
    "# Simple Linear Regression [Without Librabries]\n",
    "\n",
    "\n",
    "Name: Akshada Tonape\n",
    "\n",
    "Roll no 39"
   ]
  },
  {
   "cell_type": "code",
   "execution_count": 2,
   "metadata": {},
   "outputs": [
    {
     "name": "stdout",
     "output_type": "stream",
     "text": [
      "Coeefficient=0.001655688050092815\n",
      "Intercept=0.2750402996602781\n"
     ]
    },
    {
     "data": {
      "image/png": "[encoded data removed]",
      "text/plain": [
       "<Figure size 432x288 with 1 Axes>"
      ]
     },
     "metadata": {
      "needs_background": "light"
     },
     "output_type": "display_data"
    },
    {
     "name": "stdout",
     "output_type": "stream",
     "text": [
      "accuracy=0.4060039147967972\n"
     ]
    }
   ],
   "source": [
    "import pandas as pd;\n",
    "from matplotlib import pyplot as plt\n",
    "import numpy as np\n",
    "from sklearn import linear_model\n",
    "data=pd.read_csv(\"LR.csv\")\n",
    "data.head()\n",
    "x=data['SAT'].values\n",
    "y=data['GPA'].values\n",
    "plt.scatter(x,y)\n",
    "\n",
    "sum=0\n",
    "xmean=x.mean()\n",
    "ymean=y.mean()\n",
    "for i in range(0,len(x)):\n",
    "    sum+=(x[i]-xmean)*(y[i]-ymean)\n",
    "n=sum\n",
    "sum=0\n",
    "for i in range(0,len(x)):\n",
    "    sum+=((x[i]-xmean)**2)\n",
    "d=sum\n",
    "\n",
    "coef=n/d\n",
    "print(\"Coeefficient={}\".format(coef))\n",
    "inter=ymean-(coef*xmean)\n",
    "print(\"Intercept={}\".format(inter))\n",
    "\n",
    "y_pred=coef*x+inter\n",
    "plt.plot(x,y_pred)\n",
    "plt.show()\n",
    "\n",
    "d=0\n",
    "n=0\n",
    "for i in range(0,len(y)):\n",
    "    d+=(y[i]-np.mean(y))**2\n",
    "    n+=(y[i]-y_pred[i])**2\n",
    "r=1-(n/d) \n",
    "print(\"accuracy={}\".format(r))"
   ]
  },
  {
   "cell_type": "code",
   "execution_count": null,
   "metadata": {},
   "outputs": [],
   "source": []
  }
 ],
 "metadata": {
  "kernelspec": {
   "display_name": "Python 3",
   "language": "python",
   "name": "python3"
  },
  "language_info": {
   "codemirror_mode": {
    "name": "ipython",
    "version": 3
   },
   "file_extension": ".py",
   "mimetype": "text/x-python",
   "name": "python",
   "nbconvert_exporter": "python",
   "pygments_lexer": "ipython3",
   "version": "3.7.3"
  }
 },
 "nbformat": 4,
 "nbformat_minor": 2
}
